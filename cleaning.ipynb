{
 "cells": [
  {
   "cell_type": "markdown",
   "id": "ac478024",
   "metadata": {},
   "source": [
    "## Introduction\n",
    "\n",
    "This notebook just covers the process of loading, compiling, and cleaning raw IPEDS data for a project.\n",
    "\n",
    "## Packages & Data\n",
    "\n",
    "Loading data and necessary packages."
   ]
  },
  {
   "cell_type": "code",
   "execution_count": 43,
   "id": "c26d57d3",
   "metadata": {},
   "outputs": [],
   "source": [
    "## loading packages\n",
    "import pandas            as pd\n",
    "\n",
    "from sklearn.experimental import enable_iterative_imputer\n",
    "from sklearn.impute       import IterativeImputer\n",
    "from sklearn.tree         import DecisionTreeRegressor\n",
    "\n",
    "\n",
    "## loading data\n",
    "df_directory   = pd.read_csv(\"raw data\\\\hd_compiled.csv\", encoding = \"ISO-8859-1\")\n",
    "df_admissions  = pd.read_csv(\"raw data\\\\adm_compiled.csv\", encoding = \"ISO-8859-1\")\n",
    "df_fin_aid     = pd.read_csv(\"raw data\\\\sfa_compiled.csv\", encoding = \"ISO-8859-1\")\n",
    "df_enrollment  = pd.read_csv(\"raw data\\\\efa_compiled.csv\", encoding = \"ISO-8859-1\")\n",
    "df_grad_rate   = pd.read_csv(\"raw data\\\\gr200_compiled.csv\", encoding = \"ISO-8859-1\")\n",
    "df_migration   = pd.read_csv(\"raw data\\\\efc_compiled.csv\", encoding = \"ISO-8859-1\")\n",
    "df_finance     = pd.read_csv(\"raw data\\\\f_f1a_compiled.csv\", encoding = \"ISO-8859-1\")\n",
    "df_charges     = pd.read_csv(\"raw data\\\\ic_ay_compiled.csv\", encoding = \"ISO-8859-1\")\n",
    "df_misc        = pd.read_csv(\"raw data\\\\efd_compiled.csv\", encoding = \"ISO-8859-1\")\n"
   ]
  },
  {
   "cell_type": "markdown",
   "id": "6e7e52ea",
   "metadata": {},
   "source": [
    "## Directory Information\n",
    "\n",
    "Limiting the dataset to active, public universities that offer an undergradaute and graduate degree. Also filtering out any tribal or historically black colleges and universities. "
   ]
  },
  {
   "cell_type": "code",
   "execution_count": 44,
   "id": "294c3c1f",
   "metadata": {},
   "outputs": [],
   "source": [
    "## general cleaning - filtering schools, extracting/renaming renaming variables\n",
    "df_directory = (df_directory\n",
    "                ## Filtering rows\n",
    "                .loc[(df_directory[\"ACAD_YEAR\"]                                == 2023)     &\n",
    "                     (df_directory[\"Institution is active in current year\"]    == \"Yes\")    & \n",
    "                     (df_directory[\"Tribal college\"]                           == \"No\")     &\n",
    "                     (df_directory[\"Historically Black College or University\"] == \"No\")     &\n",
    "                     (df_directory[\"Control of institution\"]                   == \"Public\") &\n",
    "                     (df_directory[\"Degree-granting status\"]                   == \"Degree-granting\") & \n",
    "                     (df_directory[\"Undergraduate offering\"]                   == \"Undergraduate degree or certificate offering\") &\n",
    "                     (df_directory[\"Graduate offering\"]                        == \"Graduate degree or certificate offering\")]\n",
    "                ## Subsetting columns\n",
    "                [[\"UNITID\",\n",
    "                  \"Institution (entity) name\",\n",
    "                  \"City location of institution\", \n",
    "                  \"State abbreviation_value\",\n",
    "                  \"State abbreviation\"]]\n",
    "                ## Renaming columns\n",
    "                .rename(columns = {\"UNITID\"                       : \"INST_ID\",\n",
    "                                   \"Institution (entity) name\"    : \"INST_NAME\",\n",
    "                                   \"City location of institution\" : \"INST_CITY\",\n",
    "                                   \"State abbreviation_value\"     : \"INST_STATE_ABRV\",\n",
    "                                   \"State abbreviation\"           : \"INST_STATE_NAME\"})\n",
    ")\n"
   ]
  },
  {
   "cell_type": "markdown",
   "id": "98abf247",
   "metadata": {},
   "source": [
    "## Admissions Information\n",
    "\n",
    "Obtaining the number of applications, admits, and enrolled students - so that I can calculate admit rate and yield. Admit rate is a proxy for selectivity, while yield is the percentage of admitted students who enroll and a common metric in enrollment management."
   ]
  },
  {
   "cell_type": "code",
   "execution_count": 45,
   "id": "3bfdff5c",
   "metadata": {},
   "outputs": [],
   "source": [
    "## general cleaning - filtering schools, extracting/renaming renaming variables\n",
    "df_admissions = (df_admissions\n",
    "                 ## Filtering rows\n",
    "                 .loc[(df_admissions[\"ACAD_YEAR\"] == 2023) & \n",
    "                      (df_admissions[\"UNITID\"].isin(df_directory[\"INST_ID\"]))]\n",
    "                 ## Subsetting columns\n",
    "                 [[\"UNITID\",\n",
    "                   \"Applicants total\",\n",
    "                   \"Admissions total\",\n",
    "                   \"Enrolled total\"]]\n",
    "                 ## Renaming columns \n",
    "                 .rename(columns = {\"UNITID\"           : \"INST_ID\",\n",
    "                                    \"Applicants total\" : \"APPLY_CT\",\n",
    "                                    \"Admissions total\" : \"ADMIT_CT\",\n",
    "                                    \"Enrolled total\"   : \"ENROLL_CT\"})\n",
    ")\n",
    "\n",
    "\n",
    "## feature creation\n",
    "df_admissions = (df_admissions\n",
    "                 .assign(ADMIT_RATE = round(df_admissions[\"ADMIT_CT\"]/df_admissions[\"APPLY_CT\"]*100, 0),\n",
    "                         YIELD_RATE = round(df_admissions[\"ENROLL_CT\"]/df_admissions[\"ADMIT_CT\"]*100, 0))\n",
    "                 .drop([\"APPLY_CT\", \"ADMIT_CT\", \"ENROLL_CT\"], axis = 1)\n",
    ")\n"
   ]
  },
  {
   "cell_type": "markdown",
   "id": "1d7fec81",
   "metadata": {},
   "source": [
    "## Financial Aid\n",
    "\n",
    "Obtaining the percentage of freshmen who receive a Pell Grant or institutional grant aid (i.e. scholarships). I'm also getting the percentage of freshmen who live on campus, which is a proxy for identifying commuter schools. "
   ]
  },
  {
   "cell_type": "code",
   "execution_count": 46,
   "id": "dc920943",
   "metadata": {},
   "outputs": [],
   "source": [
    "## general cleaning - filtering schools, extracting/renaming renaming variables\n",
    "df_fin_aid = (df_fin_aid\n",
    "              ## Filtering rows\n",
    "              .loc[(df_fin_aid[\"ACAD_YEAR\"] == 2023) & \n",
    "                   (df_fin_aid[\"UNITID\"].isin(df_directory[\"INST_ID\"]))]\n",
    "              ## Subsetting columns\n",
    "              [[\"UNITID\",\n",
    "                \"Percent of full-time first-time undergraduates awarded Pell grants\",\n",
    "                \"Percent of full-time first-time undergraduates awarded institutional grant aid\",\n",
    "                \"Number living on-campus, (current year)(GISTON2_70501)\",\n",
    "                \"Total number, (current year)(GISTN2_70496)\"]]\n",
    "              ## Renaming column\n",
    "              .rename(columns = {\"UNITID\"                                                                         : \"INST_ID\",\n",
    "                                 \"Percent of full-time first-time undergraduates awarded Pell grants\"             : \"FINAID_PELL_GRANT_PCT\",\n",
    "                                 \"Percent of full-time first-time undergraduates awarded institutional grant aid\" : \"FINAID_INST_AID_PCT\",\n",
    "                                 \"Number living on-campus, (current year)(GISTON2_70501)\"                         : \"FINAID_ON_CAMPUS\",\n",
    "                                 \"Total number, (current year)(GISTN2_70496)\"                                     : \"FINAID_COHORT\"})\n",
    ")\n",
    "\n",
    "\n",
    "## feature creation\n",
    "df_fin_aid = (df_fin_aid\n",
    "              .assign(ON_CAMPUS_PCT = round(df_fin_aid[\"FINAID_ON_CAMPUS\"]/df_fin_aid[\"FINAID_COHORT\"]*100, 0))\n",
    "              .drop([\"FINAID_ON_CAMPUS\", \"FINAID_COHORT\"], axis = 1)\n",
    ")\n"
   ]
  },
  {
   "cell_type": "markdown",
   "id": "4eb8f743",
   "metadata": {},
   "source": [
    "## Enrollment\n",
    "\n",
    "Obtaining the number graduate students, degree-seeking undergraduates, and non-degree seeking undergraduates. Non-degree seeking undergraduates would include high school students earning concurrent enrollment."
   ]
  },
  {
   "cell_type": "code",
   "execution_count": 47,
   "id": "5eef7c7f",
   "metadata": {},
   "outputs": [],
   "source": [
    "## general cleaning - filtering schools, extracting/renaming renaming variables\n",
    "df_enrollment = (df_enrollment\n",
    "                 ## Filtering rows\n",
    "                 .loc[(df_enrollment[\"ACAD_YEAR\"] == 2023)                    &\n",
    "                      (df_enrollment[\"UNITID\"].isin(df_directory[\"INST_ID\"])) &\n",
    "                      (df_enrollment[\"Level of student(EFALEVEL_20166)\"].isin([\"All students, Graduate\",\n",
    "                                                                               \"All students, Undergraduate, Degree/certificate-seeking total\",\n",
    "                                                                               \"All students, Undergraduate, Non-degree/certificate-seeking\"]))]\n",
    "                  ## Subsetting columns\n",
    "                  [[\"UNITID\",\n",
    "                    \"Level of student(EFALEVEL_20166)\",\n",
    "                    \"Grand total(EFTOTLT_20286)\"]]\n",
    "                  ## Reshaping data\n",
    "                  .pivot(index   = \"UNITID\",\n",
    "                         columns = \"Level of student(EFALEVEL_20166)\",\n",
    "                         values  = \"Grand total(EFTOTLT_20286)\")\n",
    "                  .reset_index()\n",
    "                  ## Renaming columns\n",
    "                  .rename(columns = {\"UNITID\"                                                              : \"INST_ID\",\n",
    "                                     \"All students, Graduate\"                                              : \"ENROLL_GRAD_ALL\",\n",
    "                                     \"All students, Undergraduate, Degree/certificate-seeking total\"       : \"ENROLL_UGRAD_DS\",\n",
    "                                     \"All students, Undergraduate, Non-degree/certificate-seeking\"         : \"ENROLL_UGRAD_NDS\"})\n",
    "                  ## Filling in NA values with 0                   \n",
    "                  .fillna(0)\n",
    ")"
   ]
  },
  {
   "cell_type": "markdown",
   "id": "53185307",
   "metadata": {},
   "source": [
    "## Migration\n",
    "\n",
    "Calculating the percentage of freshmen who are in-state, which is a proxy for regional schools. "
   ]
  },
  {
   "cell_type": "code",
   "execution_count": 48,
   "id": "fea6b0bd",
   "metadata": {},
   "outputs": [],
   "source": [
    "## general cleaning - filtering schools, extracting/renaming renaming variables\n",
    "df_migration = (df_migration\n",
    "                ## Filtering rows\n",
    "                .loc[(df_migration[\"ACAD_YEAR\"] == 2023)                    & \n",
    "                     (df_migration[\"UNITID\"].isin(df_directory[\"INST_ID\"])) & \n",
    "                     (~df_migration[\"State of residence when student was first admitted\"].isin([\"All first-time degree/certificate seeking undergraduates, total\", \"US total\"]))]\n",
    "                ## Subsetting columns\n",
    "                [[\"UNITID\",\n",
    "                  \"State of residence when student was first admitted\",\n",
    "                  \"First-time degree/certificate-seeking undergraduate students\"]]\n",
    "                ## Rename columns\n",
    "                .rename(columns = {\"UNITID\"                                                       : \"INST_ID\",\n",
    "                                   \"State of residence when student was first admitted\"           : \"STATE\",\n",
    "                                   \"First-time degree/certificate-seeking undergraduate students\" : \"ENROLLMENT\"})\n",
    ")\n",
    "\n",
    "\n",
    "## aggregating\n",
    "df_migration['TOTAL_ENROLLMENT'] = df_migration.groupby('INST_ID')['ENROLLMENT'].transform('sum')\n",
    "df_migration['FTIC_RESD_PCT']   = round(df_migration['ENROLLMENT']/df_migration['TOTAL_ENROLLMENT']*100, 0)\n",
    "\n",
    "\n",
    "## pulling in some directory data\n",
    "df_migration = (df_directory\n",
    "                ## Subsetting columns\n",
    "                [[\"INST_ID\", \n",
    "                  \"INST_STATE_NAME\"]]\n",
    "                ## Merging & Filtering\n",
    "                .merge(df_migration, how = \"left\", on = \"INST_ID\")\n",
    "                .query(\"STATE == INST_STATE_NAME\")\n",
    "                .drop([\"ENROLLMENT\", \"TOTAL_ENROLLMENT\", \"INST_STATE_NAME\", \"STATE\"], axis = 1)\n",
    ")\n"
   ]
  },
  {
   "cell_type": "markdown",
   "id": "319fb00b",
   "metadata": {},
   "source": [
    "## Financial Information\n",
    "\n",
    "Calculating the amount of money spent instruction and research per undergraduate student as well as the size of the endowment per undergraduate. I am also calculating the discount rate, which is a common metric representing the amount of institutional grant aid offered. And finally, I am calculating the percentage of revenue derived from tuition - another common metric that measures the reliance on enrollment."
   ]
  },
  {
   "cell_type": "code",
   "execution_count": 49,
   "id": "40e89166",
   "metadata": {},
   "outputs": [],
   "source": [
    "## general cleaning - filtering schools, extracting/renaming renaming variables\n",
    "df_finance = (df_finance\n",
    "              ## Filtering rows\n",
    "              .loc[(df_finance[\"ACAD_YEAR\"] == 2023) & \n",
    "                   (df_finance[\"UNITID\"].isin(df_directory[\"INST_ID\"]))]\n",
    "              ## Subsetting columns\n",
    "              [[\"UNITID\",\n",
    "                \"Total all revenues and other additions\",\n",
    "                \"Instruction - Current year total\",\n",
    "                \"Research - Current year total\",\n",
    "                \"Tuition and fees, after deducting discounts and allowances\",\n",
    "                \"Discounts and allowances applied to tuition and fees\",     \n",
    "                \"Scholarships and fellowships expenses -- Current year total\",           \n",
    "                \"Value of endowment assets at the beginning of the fiscal year\"]]\n",
    "              ## Renaming columns\n",
    "              .rename(columns = {\"UNITID\"                                                        : \"INST_ID\",\n",
    "                                 \"Total all revenues and other additions\"                        : \"TOTAL_REV\",\n",
    "                                 \"Tuition and fees, after deducting discounts and allowances\"    : \"TUITION_REV\",\n",
    "                                 \"Instruction - Current year total\"                              : \"INSTRUCT_EXP\",\n",
    "                                 \"Research - Current year total\"                                 : \"RESEARCH_EXP\",\n",
    "                                 \"Scholarships and fellowships expenses -- Current year total\"   : \"SCHOLAR_EXP\",\n",
    "                                 \"Discounts and allowances applied to tuition and fees\"          : \"TUTION_DIS\",\n",
    "                                 \"Value of endowment assets at the beginning of the fiscal year\" : \"ENDOW_VAL\"})\n",
    "               .assign(TOTAL_REV    = lambda x: x['TOTAL_REV'].mask(x['TOTAL_REV'] == 0),\n",
    "                       INSTRUCT_EXP = lambda x: x['INSTRUCT_EXP'].mask(x['INSTRUCT_EXP'] == 0),\n",
    "                       ENDOW_VAL    = lambda x: x['ENDOW_VAL'].mask(x['ENDOW_VAL'] == 0))\n",
    ")\n",
    "\n",
    "\n",
    "## features creation\n",
    "df_finance = (df_finance\n",
    "                .merge(df_enrollment[[\"INST_ID\", \"ENROLL_UGRAD_DS\"]], on = \"INST_ID\", how = \"left\")\n",
    "                .assign(INSTRUCT_EXP_PER_UG = lambda x: round(x[\"INSTRUCT_EXP\"]/x[\"ENROLL_UGRAD_DS\"], 0),\n",
    "                        RESEARCH_EXP_PER_UG = lambda x: round(x[\"RESEARCH_EXP\"]/x[\"ENROLL_UGRAD_DS\"], 0),\n",
    "                        ENDOWMENT_PER_UG    = lambda x: round(x[\"ENDOW_VAL\"]/x[\"ENROLL_UGRAD_DS\"], 0),\n",
    "                        TUITION_REV_PCT     = lambda x: round(x[\"TUITION_REV\"]/x[\"TOTAL_REV\"]*100, 0),\n",
    "                        DISCOUNT_RATE       = lambda x: round(x[\"TUTION_DIS\"]/(x[\"TUITION_REV\"] + x[\"TUTION_DIS\"])*100, 0))\n",
    "                [[\"INST_ID\",\n",
    "                  \"INSTRUCT_EXP_PER_UG\",\n",
    "                  \"RESEARCH_EXP_PER_UG\",\n",
    "                  \"ENDOWMENT_PER_UG\",\n",
    "                  \"TUITION_REV_PCT\",\n",
    "                  \"DISCOUNT_RATE\"]]\n",
    ")"
   ]
  },
  {
   "cell_type": "markdown",
   "id": "17123621",
   "metadata": {},
   "source": [
    "## Graduation Rates\n",
    "\n",
    "Obtaining the four and six year graduation rates for each institution. "
   ]
  },
  {
   "cell_type": "code",
   "execution_count": 50,
   "id": "d45447a5",
   "metadata": {},
   "outputs": [],
   "source": [
    "## general cleaning - filtering schools, extracting/renaming renaming variables\n",
    "df_grad_rate = (df_grad_rate\n",
    "                ## Filtering rows\n",
    "                .loc[(df_grad_rate[\"ACAD_YEAR\"] == 2023) &\n",
    "                     (df_grad_rate[\"UNITID\"].isin(df_directory[\"INST_ID\"]))]\n",
    "                ## Subsetting columns\n",
    "                [[\"UNITID\",\n",
    "                  \"4-year Graduation rate - bachelor's degree within 100% of normal time\",\n",
    "                  \"6-year Graduation rate - bachelor's degree within 150% of normal time\"]]\n",
    "                ## Renaming columns\n",
    "                .rename(columns = {\"UNITID\"                                                                : \"INST_ID\",\n",
    "                                   \"4-year Graduation rate - bachelor's degree within 100% of normal time\" : \"GRAD_RATE_4YR\",\n",
    "                                   \"6-year Graduation rate - bachelor's degree within 150% of normal time\" : \"GRAD_RATE_6YR\"})\n",
    ")\n",
    "                \n"
   ]
  },
  {
   "cell_type": "markdown",
   "id": "03f4fc77",
   "metadata": {},
   "source": [
    "## Student Charges\n",
    "\n",
    "Obtaining the in-state and out-of-state tuition amounts. "
   ]
  },
  {
   "cell_type": "code",
   "execution_count": 51,
   "id": "9657c639",
   "metadata": {},
   "outputs": [],
   "source": [
    "## general cleaning - filtering schools, extracting/renaming renaming variables\n",
    "df_charges = (df_charges\n",
    "              ## Filtering rows\n",
    "              .loc[(df_charges[\"ACAD_YEAR\"] == 2023) &\n",
    "                   (df_charges[\"UNITID\"].isin(df_directory[\"INST_ID\"]))]\n",
    "              ## Subsetting columns\n",
    "              [[\"UNITID\",\n",
    "                \"Published in-state tuition and fees (current year)\",\n",
    "                \"Published out-of-state tuition and fees (current year)\"]]\n",
    "              ## Rename columns\n",
    "              .rename(columns = {\"UNITID\"                                                 : \"INST_ID\",\n",
    "                                 \"Published in-state tuition and fees (current year)\"     : \"TUITION_IN_STATE\",\n",
    "                                 \"Published out-of-state tuition and fees (current year)\" : \"TUITION_OUT_STATE\"})\n",
    ")"
   ]
  },
  {
   "cell_type": "markdown",
   "id": "80340f66",
   "metadata": {},
   "source": [
    "## Miscellaneous\n",
    "\n",
    "Obtaining the retention rate and student-faculty ratio."
   ]
  },
  {
   "cell_type": "code",
   "execution_count": 52,
   "id": "a074cdf2",
   "metadata": {},
   "outputs": [],
   "source": [
    "## general cleaning - filtering schools, extracting/renaming renaming variables\n",
    "df_misc = (df_misc\n",
    "           ## Filter rows\n",
    "           .loc[(df_misc[\"ACAD_YEAR\"] == 2023) &\n",
    "                (df_misc[\"UNITID\"].isin(df_directory[\"INST_ID\"]))]\n",
    "           ## Subsetting columns\n",
    "           [[\"UNITID\",\n",
    "             \"Student-to-faculty ratio\",\n",
    "             \"Full-time retention rate, 2023\"]]\n",
    "           ## Renaming columns\n",
    "           .rename(columns = {\"UNITID\"                         : \"INST_ID\",\n",
    "                              \"Student-to-faculty ratio\"       : \"STU_FAC_RATIO\",\n",
    "                              \"Full-time retention rate, 2023\" : \"RETAIN_RATE\"})\n",
    "    )"
   ]
  },
  {
   "cell_type": "markdown",
   "id": "30f721aa",
   "metadata": {},
   "source": [
    "## Compiling Data\n",
    "\n",
    "Combing all of the data frames into one. "
   ]
  },
  {
   "cell_type": "code",
   "execution_count": 53,
   "id": "7213bf4f",
   "metadata": {},
   "outputs": [],
   "source": [
    "## merging data\n",
    "df_master = (df_directory\n",
    "                 .merge(df_admissions, on = \"INST_ID\", how = \"left\")\n",
    "                 .merge(df_fin_aid,    on = \"INST_ID\", how = \"left\")\n",
    "                 .merge(df_enrollment, on = \"INST_ID\", how = \"left\")\n",
    "                 .merge(df_grad_rate,  on = \"INST_ID\", how = \"left\")\n",
    "                 .merge(df_migration,  on = \"INST_ID\", how = \"left\")\n",
    "                 .merge(df_finance,    on = \"INST_ID\", how = \"left\")\n",
    "                 .merge(df_charges,    on = \"INST_ID\", how = \"left\")\n",
    "                 .merge(df_misc,       on = \"INST_ID\", how = \"left\")\n",
    ")\n",
    "\n",
    "## getting rid of unneeded objects\n",
    "del df_directory, df_admissions, df_fin_aid, df_enrollment, df_grad_rate, df_migration, df_finance, df_charges, df_misc"
   ]
  },
  {
   "cell_type": "markdown",
   "id": "79e17808",
   "metadata": {},
   "source": [
    "## Missing Values & Final Cleaning\n",
    "\n",
    "Not every school submits a complete data set, so we have some null values in our final data set. Below, I use the MICE method to impute any missing data and then round the values to the nearest whole number. "
   ]
  },
  {
   "cell_type": "code",
   "execution_count": null,
   "id": "e1ec83f1",
   "metadata": {},
   "outputs": [],
   "source": [
    "# Imputing \n",
    "imputer    = IterativeImputer(estimator = DecisionTreeRegressor(max_depth = 10), random_state = 0)\n",
    "df_imputed = pd.DataFrame(imputer.fit_transform(df_master.iloc[:,5:25]), columns = df_master.iloc[:,5:25].columns)\n",
    "df_imputed = round(df_imputed, 0)\n"
   ]
  },
  {
   "cell_type": "markdown",
   "id": "16c0b025",
   "metadata": {},
   "source": [
    "And finally we join the imputed data back onto our list of schools and write the data to file. "
   ]
  },
  {
   "cell_type": "code",
   "execution_count": 55,
   "id": "9b81b7ea",
   "metadata": {},
   "outputs": [],
   "source": [
    "## combinig imputed data with school names/info\n",
    "df_final = pd.concat([df_master.iloc[:,0:4], df_imputed], axis = 1)\n",
    "\n",
    "## writing data to file\n",
    "df_final.to_csv(\"clean_data.csv\", index = False)"
   ]
  }
 ],
 "metadata": {
  "kernelspec": {
   "display_name": "DataScience",
   "language": "python",
   "name": "python3"
  },
  "language_info": {
   "codemirror_mode": {
    "name": "ipython",
    "version": 3
   },
   "file_extension": ".py",
   "mimetype": "text/x-python",
   "name": "python",
   "nbconvert_exporter": "python",
   "pygments_lexer": "ipython3",
   "version": "3.12.9"
  }
 },
 "nbformat": 4,
 "nbformat_minor": 5
}
